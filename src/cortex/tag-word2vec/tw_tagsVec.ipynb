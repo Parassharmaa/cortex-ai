{
 "cells": [
  {
   "cell_type": "code",
   "execution_count": 3,
   "metadata": {
    "collapsed": true
   },
   "outputs": [],
   "source": [
    "import gensim.models.word2vec as w2v\n",
    "import os"
   ]
  },
  {
   "cell_type": "code",
   "execution_count": 41,
   "metadata": {},
   "outputs": [],
   "source": [
    "vecs = []\n",
    "vecs_list = os.listdir(\"_data/trained\")\n",
    "\n",
    "for v in vecs_list:\n",
    "    vecs.append(w2v.Word2Vec.load(os.path.join(\"_data\", \"trained\", v)))"
   ]
  },
  {
   "cell_type": "code",
   "execution_count": 61,
   "metadata": {},
   "outputs": [],
   "source": [
    "def get_words(words):\n",
    "    predict_words = []\n",
    "    for w in words:\n",
    "        for v in vecs:\n",
    "            try:\n",
    "                predict_words.extend(v.most_similar_cosmul(w))\n",
    "            except:\n",
    "                pass\n",
    "    predict_words.sort(key=lambda x: x[1])\n",
    "    return predict_words[::-1][:10]"
   ]
  },
  {
   "cell_type": "code",
   "execution_count": 66,
   "metadata": {},
   "outputs": [
    {
     "data": {
      "text/plain": [
       "[('friday', 0.7047283053398132),\n",
       " ('gmt', 0.6798997521400452),\n",
       " ('mobikwik', 0.6739164590835571),\n",
       " ('lingoware', 0.6730311512947083),\n",
       " ('deepsleep', 0.6689197421073914),\n",
       " ('ladiesday', 0.6660736203193665),\n",
       " ('consultant', 0.6644144058227539),\n",
       " ('quiz', 0.6627060770988464),\n",
       " ('marked', 0.6619267463684082),\n",
       " ('factor', 0.6608335375785828)]"
      ]
     },
     "execution_count": 66,
     "metadata": {},
     "output_type": "execute_result"
    }
   ],
   "source": [
    "get_words(words = ['monday'])"
   ]
  },
  {
   "cell_type": "code",
   "execution_count": null,
   "metadata": {
    "collapsed": true
   },
   "outputs": [],
   "source": []
  }
 ],
 "metadata": {
  "kernelspec": {
   "display_name": "Python 3",
   "language": "python",
   "name": "python3"
  },
  "language_info": {
   "codemirror_mode": {
    "name": "ipython",
    "version": 3
   },
   "file_extension": ".py",
   "mimetype": "text/x-python",
   "name": "python",
   "nbconvert_exporter": "python",
   "pygments_lexer": "ipython3",
   "version": "3.5.2"
  }
 },
 "nbformat": 4,
 "nbformat_minor": 2
}
