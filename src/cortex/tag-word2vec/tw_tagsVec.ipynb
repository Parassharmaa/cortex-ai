{
 "cells": [
  {
   "cell_type": "code",
   "execution_count": 3,
   "metadata": {
    "collapsed": true
   },
   "outputs": [],
   "source": [
    "import gensim.models.word2vec as w2v\n",
    "import os"
   ]
  },
  {
   "cell_type": "code",
   "execution_count": 41,
   "metadata": {},
   "outputs": [],
   "source": [
    "vecs = []\n",
    "vecs_list = os.listdir(\"_data/trained\")\n",
    "\n",
    "for v in vecs_list:\n",
    "    vecs.append(w2v.Word2Vec.load(os.path.join(\"_data\", \"trained\", v)))"
   ]
  },
  {
   "cell_type": "code",
   "execution_count": 61,
   "metadata": {},
   "outputs": [],
   "source": [
    "def get_words(words):\n",
    "    predict_words = []\n",
    "    for w in words:\n",
    "        for v in vecs:\n",
    "            try:\n",
    "                predict_words.extend(v.most_similar_cosmul(w))\n",
    "            except:\n",
    "                pass\n",
    "    predict_words.sort(key=lambda x: x[1])\n",
    "    return predict_words[::-1][:10]"
   ]
  },
  {
   "cell_type": "code",
   "execution_count": null,
   "metadata": {},
   "outputs": [],
   "source": [
    "get_words(words = [\"india\", 'modi', 'mumbai'])"
   ]
  },
  {
   "cell_type": "code",
   "execution_count": null,
   "metadata": {
    "collapsed": true
   },
   "outputs": [],
   "source": []
  }
 ],
 "metadata": {
  "kernelspec": {
   "display_name": "Python 3",
   "language": "python",
   "name": "python3"
  },
  "language_info": {
   "codemirror_mode": {
    "name": "ipython",
    "version": 3
   },
   "file_extension": ".py",
   "mimetype": "text/x-python",
   "name": "python",
   "nbconvert_exporter": "python",
   "pygments_lexer": "ipython3",
   "version": "3.5.2"
  }
 },
 "nbformat": 4,
 "nbformat_minor": 2
}
