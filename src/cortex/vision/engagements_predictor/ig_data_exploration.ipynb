{
 "cells": [
  {
   "cell_type": "markdown",
   "metadata": {},
   "source": [
    "## Finding insights from instagram data:"
   ]
  },
  {
   "cell_type": "code",
   "execution_count": null,
   "metadata": {
    "collapsed": false,
    "deletable": true,
    "editable": true
   },
   "outputs": [],
   "source": [
    "import pandas as pd\n",
    "import numpy as np\n",
    "import json\n",
    "from pandas.io.json import json_normalize\n",
    "import os\n",
    "import matplotlib.pyplot as plt"
   ]
  },
  {
   "cell_type": "markdown",
   "metadata": {
    "deletable": true,
    "editable": true
   },
   "source": [
    "### Loading Dataset"
   ]
  },
  {
   "cell_type": "code",
   "execution_count": null,
   "metadata": {
    "collapsed": false,
    "deletable": true,
    "editable": true
   },
   "outputs": [],
   "source": [
    "data = json.loads(open(os.path.join(\"_data\", \"raw\", \"ig_posts_data.json\")).read())"
   ]
  },
  {
   "cell_type": "code",
   "execution_count": null,
   "metadata": {
    "collapsed": false,
    "deletable": true,
    "editable": true
   },
   "outputs": [],
   "source": [
    "df = pd.DataFrame.from_dict(data)\n",
    "df.head(5)"
   ]
  },
  {
   "cell_type": "markdown",
   "metadata": {
    "deletable": true,
    "editable": true
   },
   "source": [
    "### Engagements"
   ]
  },
  {
   "cell_type": "code",
   "execution_count": null,
   "metadata": {
    "collapsed": true,
    "deletable": true,
    "editable": true
   },
   "outputs": [],
   "source": [
    "df['engagements']  = df['comment'] + df['likes']"
   ]
  },
  {
   "cell_type": "markdown",
   "metadata": {
    "deletable": true,
    "editable": true
   },
   "source": [
    "#### Stats"
   ]
  },
  {
   "cell_type": "code",
   "execution_count": 15,
   "metadata": {
    "collapsed": false,
    "deletable": true,
    "editable": true
   },
   "outputs": [
    {
     "name": "stdout",
     "output_type": "stream",
     "text": [
      "Total users: 93\n",
      "----\n",
      "Min followers: 2578\n",
      "Max followers: 104300407\n",
      "Mean followers: 11438540.1013\n",
      "----\n",
      "Min engagements: 26\n",
      "Max engagements: 6778179\n",
      "Mean engagements: 161537.122061\n",
      "----\n",
      "Engagement/Followers ratio: 0.0141221799838\n"
     ]
    }
   ],
   "source": [
    "print(\"Total users:\", len(df.username.unique()))\n",
    "\n",
    "print(\"----\")\n",
    "print(\"Min followers:\", df.followed_by.min())\n",
    "print(\"Max followers:\", df.followed_by.max())\n",
    "print(\"Mean followers:\", df.followed_by.mean())\n",
    "\n",
    "print(\"----\")\n",
    "print(\"Min engagements:\", df.engagements.min())\n",
    "print(\"Max engagements:\", df.engagements.max())\n",
    "print(\"Mean engagements:\", df.engagements.mean())\n",
    "\n",
    "print(\"----\")\n",
    "print(\"Engagement/Followers ratio:\", np.divide(df.engagements.mean(), df.followed_by.mean(), dtype=float))"
   ]
  },
  {
   "cell_type": "markdown",
   "metadata": {
    "deletable": true,
    "editable": true
   },
   "source": [
    "#### Correlation between Enagements and followers:"
   ]
  },
  {
   "cell_type": "code",
   "execution_count": 16,
   "metadata": {
    "collapsed": false,
    "deletable": true,
    "editable": true
   },
   "outputs": [
    {
     "data": {
      "text/plain": [
       "0.67391050277377484"
      ]
     },
     "execution_count": 16,
     "metadata": {},
     "output_type": "execute_result"
    }
   ],
   "source": [
    "df['engagements'].corr(df['followed_by'])"
   ]
  },
  {
   "cell_type": "markdown",
   "metadata": {},
   "source": [
    "**Regression between followers and engagements**"
   ]
  },
  {
   "cell_type": "code",
   "execution_count": 17,
   "metadata": {
    "collapsed": false,
    "deletable": true,
    "editable": true
   },
   "outputs": [
    {
     "data": {
      "image/png": "[encoded data removed]",
      "text/plain": [
       "<matplotlib.figure.Figure at 0x7fda9c43bb38>"
      ]
     },
     "metadata": {},
     "output_type": "display_data"
    }
   ],
   "source": [
    "from scipy.stats import linregress\n",
    "\n",
    "x = df['followed_by']\n",
    "y = df['engagements']\n",
    "slope, intercept, r_value, p_value, std_err = linregress(np.log10(x+1), np.log10(y))\n",
    "\n",
    "xfid = np.linspace(0,10)\n",
    "\n",
    "plt.scatter(np.log10(x+1), np.log10(y), marker=\"o\", s=1, alpha=0.4)\n",
    "plt.plot(xfid, xfid*slope+intercept)\n",
    "plt.xlabel('Log(x+1)')\n",
    "plt.ylabel('Log(y)')\n",
    "plt.show()"
   ]
  },
  {
   "cell_type": "markdown",
   "metadata": {
    "deletable": true,
    "editable": true
   },
   "source": [
    "### Experiment 1 (Features: Caption and Followers ---> Engagements)"
   ]
  },
  {
   "cell_type": "code",
   "execution_count": 18,
   "metadata": {
    "collapsed": false,
    "deletable": true,
    "editable": true
   },
   "outputs": [],
   "source": [
    "exp1_dataset = pd.DataFrame(df[[\"engagements\", 'followed_by', 'caption']])"
   ]
  },
  {
   "cell_type": "markdown",
   "metadata": {},
   "source": [
    "**Vectorizing followers and caption**"
   ]
  },
  {
   "cell_type": "code",
   "execution_count": 19,
   "metadata": {
    "collapsed": false,
    "deletable": true,
    "editable": true
   },
   "outputs": [],
   "source": [
    "from sklearn.feature_extraction import DictVectorizer\n",
    "\n",
    "vec = DictVectorizer()\n",
    "\n",
    "train_features  = []\n",
    "for i, row in exp1_dataset.iterrows():\n",
    "    train_features.append({\"caption\":row['caption'], \"followed_by\":row['followed_by']})\n",
    "    \n",
    "features = vec.fit_transform(train_features).toarray()\n",
    "target = exp1_dataset['engagements']"
   ]
  },
  {
   "cell_type": "markdown",
   "metadata": {},
   "source": [
    "**Splitting Dataset into 80:20**"
   ]
  },
  {
   "cell_type": "code",
   "execution_count": 20,
   "metadata": {
    "collapsed": false,
    "deletable": true,
    "editable": true
   },
   "outputs": [
    {
     "data": {
      "text/plain": [
       "(884,)"
      ]
     },
     "execution_count": 20,
     "metadata": {},
     "output_type": "execute_result"
    }
   ],
   "source": [
    "split_ratio = 0.8\n",
    "\n",
    "train_x = features[:int(len(features)*split_ratio)]\n",
    "test_x = features[int(len(features)*split_ratio):]\n",
    "\n",
    "train_y = target[:int(len(target)*split_ratio)]\n",
    "test_y = target[int(len(target)*split_ratio):]\n",
    "\n",
    "train_y.shape"
   ]
  },
  {
   "cell_type": "markdown",
   "metadata": {},
   "source": [
    "**Building Neural Net:**"
   ]
  },
  {
   "cell_type": "code",
   "execution_count": null,
   "metadata": {
    "collapsed": false,
    "deletable": true,
    "editable": true
   },
   "outputs": [],
   "source": [
    "import tflearn\n",
    "import tensorflow as tf\n",
    "\n",
    "\n",
    "tf.reset_default_graph()\n",
    "\n",
    "net = tflearn.input_data(shape=[None,len(train_x[0])], name='input')\n",
    "net = tflearn.fully_connected(net, 200)\n",
    "net = tflearn.fully_connected(net, 200)\n",
    "net = tflearn.fully_connected(net, 1, activation='softmax')\n",
    "net = tflearn.reshape(net,[-1])\n",
    "net = tflearn.regression(net, name='targets')\n",
    "\n",
    "model = tflearn.DNN(net)\n",
    "\n",
    "\n",
    "model.fit({'input': train_x}, {'targets': train_y}, \n",
    "          validation_set=({'input': test_x}, {'targets': test_y}), \n",
    "           n_epoch=10000, batch_size=32, show_metric=True)"
   ]
  },
  {
   "cell_type": "markdown",
   "metadata": {},
   "source": [
    "**Conclusion:**\n",
    "\n",
    "The features (Followers and caption) are not sufficient to train a neural net to predict social engagements"
   ]
  }
 ],
 "metadata": {
  "kernelspec": {
   "display_name": "Python 3",
   "language": "python",
   "name": "python3"
  },
  "language_info": {
   "codemirror_mode": {
    "name": "ipython",
    "version": 3
   },
   "file_extension": ".py",
   "mimetype": "text/x-python",
   "name": "python",
   "nbconvert_exporter": "python",
   "pygments_lexer": "ipython3",
   "version": "3.5.3"
  }
 },
 "nbformat": 4,
 "nbformat_minor": 2
}
